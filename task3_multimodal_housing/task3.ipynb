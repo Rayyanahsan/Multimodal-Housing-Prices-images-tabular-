{
 "cells": [
  {
   "cell_type": "markdown",
   "id": "a69f2b81",
   "metadata": {},
   "source": [
    "# Task 3 — Multimodal Housing Prices\n",
    "\n",
    "Images → CNN embeddings (ResNet18) + Tabular → Regressor."
   ]
  },
  {
   "cell_type": "code",
   "execution_count": null,
   "id": "c89d92c7",
   "metadata": {},
   "outputs": [],
   "source": [
    "import pandas as pd, numpy as np, os\n",
    "from PIL import Image\n",
    "import torch\n",
    "from torch import nn\n",
    "from torchvision import models, transforms\n",
    "from tqdm import tqdm\n",
    "from sklearn.model_selection import train_test_split\n",
    "from sklearn.metrics import mean_absolute_error, mean_squared_error\n",
    "import xgboost as xgb\n"
   ]
  },
  {
   "cell_type": "markdown",
   "id": "b15542b7",
   "metadata": {},
   "source": [
    "## 1) Load data"
   ]
  },
  {
   "cell_type": "code",
   "execution_count": null,
   "id": "d4d24833",
   "metadata": {},
   "outputs": [],
   "source": [
    "df = pd.read_csv('housing_tabular.csv')  # columns: features..., image_path, price\n",
    "assert 'image_path' in df.columns and 'price' in df.columns\n"
   ]
  },
  {
   "cell_type": "markdown",
   "id": "0b6ce00e",
   "metadata": {},
   "source": [
    "## 2) Image transform + feature extractor"
   ]
  },
  {
   "cell_type": "code",
   "execution_count": null,
   "id": "46d6c261",
   "metadata": {},
   "outputs": [],
   "source": [
    "device = 'cuda' if torch.cuda.is_available() else 'cpu'\n",
    "model = models.resnet18(weights=models.ResNet18_Weights.DEFAULT)\n",
    "model.fc = nn.Identity()\n",
    "model.to(device).eval()\n",
    "\n",
    "img_tf = transforms.Compose([\n",
    "    transforms.Resize((224,224)),\n",
    "    transforms.ToTensor(),\n",
    "    transforms.Normalize(mean=[0.485,0.456,0.406], std=[0.229,0.224,0.225])\n",
    "])\n",
    "\n",
    "def img_embed(path):\n",
    "    img = Image.open(path).convert('RGB')\n",
    "    t = img_tf(img).unsqueeze(0).to(device)\n",
    "    with torch.no_grad():\n",
    "        emb = model(t).squeeze(0).cpu().numpy()\n",
    "    return emb\n"
   ]
  },
  {
   "cell_type": "markdown",
   "id": "b39c4603",
   "metadata": {},
   "source": [
    "## 3) Build embedding matrix"
   ]
  },
  {
   "cell_type": "code",
   "execution_count": null,
   "id": "53e3cd75",
   "metadata": {},
   "outputs": [],
   "source": [
    "embs = []\n",
    "for p in tqdm(df['image_path']):\n",
    "    embs.append(img_embed(p))\n",
    "embs = np.vstack(embs)\n"
   ]
  },
  {
   "cell_type": "markdown",
   "id": "292efbea",
   "metadata": {},
   "source": [
    "## 4) Merge with tabular features"
   ]
  },
  {
   "cell_type": "code",
   "execution_count": null,
   "id": "31ee03df",
   "metadata": {},
   "outputs": [],
   "source": [
    "tab_cols = [c for c in df.columns if c not in ['image_path','price']]\n",
    "X_tab = df[tab_cols].select_dtypes(include=[np.number]).fillna(0).values\n",
    "from sklearn.preprocessing import StandardScaler\n",
    "scaler = StandardScaler()\n",
    "X_tab = scaler.fit_transform(X_tab)\n",
    "\n",
    "X = np.hstack([embs, X_tab])\n",
    "y = df['price'].values\n",
    "X_train, X_test, y_train, y_test = train_test_split(X, y, test_size=0.2, random_state=42)\n"
   ]
  },
  {
   "cell_type": "markdown",
   "id": "a6025d55",
   "metadata": {},
   "source": [
    "## 5) Train regressor & evaluate"
   ]
  },
  {
   "cell_type": "code",
   "execution_count": null,
   "id": "08c3ba65",
   "metadata": {},
   "outputs": [],
   "source": [
    "model_xgb = xgb.XGBRegressor(n_estimators=400, learning_rate=0.05, max_depth=6, subsample=0.8, colsample_bytree=0.8, random_state=42)\n",
    "model_xgb.fit(X_train, y_train)\n",
    "\n",
    "pred = model_xgb.predict(X_test)\n",
    "mae = mean_absolute_error(y_test, pred)\n",
    "rmse = mean_squared_error(y_test, pred, squared=False)\n",
    "mae, rmse\n"
   ]
  },
  {
   "cell_type": "markdown",
   "id": "f6cb6934",
   "metadata": {},
   "source": [
    "## 6) Save artifacts"
   ]
  },
  {
   "cell_type": "code",
   "execution_count": null,
   "id": "b47c225a",
   "metadata": {},
   "outputs": [],
   "source": [
    "import joblib\n",
    "joblib.dump({'scaler': scaler, 'xgb': model_xgb}, 'multimodal_model.joblib')\n"
   ]
  }
 ],
 "metadata": {},
 "nbformat": 4,
 "nbformat_minor": 5
}
